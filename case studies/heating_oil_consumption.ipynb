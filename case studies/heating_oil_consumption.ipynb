{
 "cells": [
  {
   "attachments": {},
   "cell_type": "markdown",
   "metadata": {},
   "source": [
    "# Case Study: Predicting the Cost of Heating Oil Based on Consumption and Past Cost\n",
    "\n",
    "## Introduction\n",
    "\n",
    "With the rise of COVI-19, we have observed an increase in local gas prices that may warrant one to switch to gas heating. Since the year 2000, the price of heating oil has more than doubled (Demers, 2022). Although the US government attempts to mitigate the sharp increase in heating oil prices, specially with the incoming cold front that will increase demand of heating oil, outside influences still maintain heating oil prices unstable (Sanicola, 2022). Due to the instability of heating oil prices, a novel machine learning algorithm that predicts future heating oil prices based on past prices will be used. This machine learning algorithm will be developed in the Julia programming language to take full advantage of the programming language's speed and ability to run algorithms directly on the GPU.\n",
    "\n",
    "## Problem Definition\n",
    "\n",
    "Current heating oil prices have been very unstable due to the global crises that have emerged. The main goal of the case study is to\n",
    "1. Normalize the heating oil prices so that the price is independent of the company.\n",
    "2. Transform the total price to a per gallon bases to create better estimate.\n",
    "3. Predict Future heating oil prices.\n",
    "\n",
    "## Exploratory Data Analysis\n",
    "\n",
    "Before one can begin modeling, it is imperative that the data is explored and the features are examined. In this phase of the product development, one will load the collected data and explore it to observe whether there is any correlation between the features and to engineer certain features that may be missing, such as price per gallon.\n",
    "\n",
    "We first begin this phase by importing the required libraries"
   ]
  },
  {
   "cell_type": "code",
   "execution_count": 9,
   "metadata": {},
   "outputs": [],
   "source": [
    "using Plots\n",
    "using DataFrames\n",
    "using DelimitedFiles\n",
    "using Dates\n",
    "using Flux\n",
    "using MLUtils"
   ]
  },
  {
   "attachments": {},
   "cell_type": "markdown",
   "metadata": {},
   "source": [
    "Now that the libraries have been loaded, one can move on to loading the dataset and creating a representative summary of the dataset."
   ]
  },
  {
   "cell_type": "code",
   "execution_count": 10,
   "metadata": {},
   "outputs": [
    {
     "data": {
      "text/plain": [
       "2-element Vector{String}:\n",
       " \"\\ufeffdate\"\n",
       " \"weekly__dollars_per_gallon\""
      ]
     },
     "metadata": {},
     "output_type": "display_data"
    }
   ],
   "source": [
    "\"\"\"\n",
    "Load CSV data into a DataFrame.\n",
    "\"\"\"\n",
    "function read_csv(filename::String, delimiter::Char=',')\n",
    "    data, headers = readdlm(filename, delimiter, header=true)\n",
    "    df = DataFrame(data, vec(headers))\n",
    "    return df\n",
    "end\n",
    "\n",
    "df = read_csv(\"../data/heating oil prices.csv\")\n",
    "\n",
    "names(df)"
   ]
  },
  {
   "cell_type": "code",
   "execution_count": 11,
   "metadata": {},
   "outputs": [
    {
     "data": {
      "text/html": [
       "<div><div style = \"float: left;\"><span>10×2 DataFrame</span></div><div style = \"clear: both;\"></div></div><div class = \"data-frame\" style = \"overflow-x: scroll;\"><table class = \"data-frame\" style = \"margin-bottom: 6px;\"><thead><tr class = \"header\"><th class = \"rowNumber\" style = \"font-weight: bold; text-align: right;\">Row</th><th style = \"text-align: left;\">\\ufeffdate</th><th style = \"text-align: left;\">weekly__dollars_per_gallon</th></tr><tr class = \"subheader headerLastRow\"><th class = \"rowNumber\" style = \"font-weight: bold; text-align: right;\"></th><th title = \"Any\" style = \"text-align: left;\">Any</th><th title = \"Any\" style = \"text-align: left;\">Any</th></tr></thead><tbody><tr><td class = \"rowNumber\" style = \"font-weight: bold; text-align: right;\">1</td><td style = \"text-align: left;\">Oct 01, 1990</td><td style = \"text-align: left;\">1.285</td></tr><tr><td class = \"rowNumber\" style = \"font-weight: bold; text-align: right;\">2</td><td style = \"text-align: left;\">Oct 15, 1990</td><td style = \"text-align: left;\">1.347</td></tr><tr><td class = \"rowNumber\" style = \"font-weight: bold; text-align: right;\">3</td><td style = \"text-align: left;\">Nov 05, 1990</td><td style = \"text-align: left;\">1.355</td></tr><tr><td class = \"rowNumber\" style = \"font-weight: bold; text-align: right;\">4</td><td style = \"text-align: left;\">Nov 19, 1990</td><td style = \"text-align: left;\">1.327</td></tr><tr><td class = \"rowNumber\" style = \"font-weight: bold; text-align: right;\">5</td><td style = \"text-align: left;\">Dec 03, 1990</td><td style = \"text-align: left;\">1.331</td></tr><tr><td class = \"rowNumber\" style = \"font-weight: bold; text-align: right;\">6</td><td style = \"text-align: left;\">Dec 17, 1990</td><td style = \"text-align: left;\">1.28</td></tr><tr><td class = \"rowNumber\" style = \"font-weight: bold; text-align: right;\">7</td><td style = \"text-align: left;\">Jan 07, 1991</td><td style = \"text-align: left;\">1.254</td></tr><tr><td class = \"rowNumber\" style = \"font-weight: bold; text-align: right;\">8</td><td style = \"text-align: left;\">Jan 21, 1991</td><td style = \"text-align: left;\">1.266</td></tr><tr><td class = \"rowNumber\" style = \"font-weight: bold; text-align: right;\">9</td><td style = \"text-align: left;\">Feb 04, 1991</td><td style = \"text-align: left;\">1.24</td></tr><tr><td class = \"rowNumber\" style = \"font-weight: bold; text-align: right;\">10</td><td style = \"text-align: left;\">Feb 18, 1991</td><td style = \"text-align: left;\">1.216</td></tr></tbody></table></div>"
      ],
      "text/latex": [
       "\\begin{tabular}{r|cc}\n",
       "\t& ﻿date & weekly\\_\\_dollars\\_per\\_gallon\\\\\n",
       "\t\\hline\n",
       "\t& Any & Any\\\\\n",
       "\t\\hline\n",
       "\t1 & Oct 01, 1990 & 1.285 \\\\\n",
       "\t2 & Oct 15, 1990 & 1.347 \\\\\n",
       "\t3 & Nov 05, 1990 & 1.355 \\\\\n",
       "\t4 & Nov 19, 1990 & 1.327 \\\\\n",
       "\t5 & Dec 03, 1990 & 1.331 \\\\\n",
       "\t6 & Dec 17, 1990 & 1.28 \\\\\n",
       "\t7 & Jan 07, 1991 & 1.254 \\\\\n",
       "\t8 & Jan 21, 1991 & 1.266 \\\\\n",
       "\t9 & Feb 04, 1991 & 1.24 \\\\\n",
       "\t10 & Feb 18, 1991 & 1.216 \\\\\n",
       "\\end{tabular}\n"
      ],
      "text/plain": [
       "\u001b[1m10×2 DataFrame\u001b[0m\n",
       "\u001b[1m Row \u001b[0m│\u001b[1m \\ufeffdate   \u001b[0m\u001b[1m weekly__dollars_per_gallon \u001b[0m\n",
       "     │\u001b[90m Any          \u001b[0m\u001b[90m Any                        \u001b[0m\n",
       "─────┼──────────────────────────────────────────\n",
       "   1 │ Oct 01, 1990  1.285\n",
       "   2 │ Oct 15, 1990  1.347\n",
       "   3 │ Nov 05, 1990  1.355\n",
       "   4 │ Nov 19, 1990  1.327\n",
       "   5 │ Dec 03, 1990  1.331\n",
       "   6 │ Dec 17, 1990  1.28\n",
       "   7 │ Jan 07, 1991  1.254\n",
       "   8 │ Jan 21, 1991  1.266\n",
       "   9 │ Feb 04, 1991  1.24\n",
       "  10 │ Feb 18, 1991  1.216"
      ]
     },
     "metadata": {},
     "output_type": "display_data"
    }
   ],
   "source": [
    "first(df, 10)"
   ]
  },
  {
   "attachments": {},
   "cell_type": "markdown",
   "metadata": {},
   "source": [
    "## Data Processing\n",
    "\n",
    "First, let us transform the data in to the correct data types."
   ]
  },
  {
   "cell_type": "code",
   "execution_count": 12,
   "metadata": {},
   "outputs": [
    {
     "data": {
      "text/html": [
       "<div><div style = \"float: left;\"><span>10×2 DataFrame</span></div><div style = \"clear: both;\"></div></div><div class = \"data-frame\" style = \"overflow-x: scroll;\"><table class = \"data-frame\" style = \"margin-bottom: 6px;\"><thead><tr class = \"header\"><th class = \"rowNumber\" style = \"font-weight: bold; text-align: right;\">Row</th><th style = \"text-align: left;\">\\ufeffdate</th><th style = \"text-align: left;\">weekly__dollars_per_gallon</th></tr><tr class = \"subheader headerLastRow\"><th class = \"rowNumber\" style = \"font-weight: bold; text-align: right;\"></th><th title = \"Date\" style = \"text-align: left;\">Date</th><th title = \"Float32\" style = \"text-align: left;\">Float32</th></tr></thead><tbody><tr><td class = \"rowNumber\" style = \"font-weight: bold; text-align: right;\">1</td><td style = \"text-align: left;\">1990-10-01</td><td style = \"text-align: right;\">1.285</td></tr><tr><td class = \"rowNumber\" style = \"font-weight: bold; text-align: right;\">2</td><td style = \"text-align: left;\">1990-10-15</td><td style = \"text-align: right;\">1.347</td></tr><tr><td class = \"rowNumber\" style = \"font-weight: bold; text-align: right;\">3</td><td style = \"text-align: left;\">1990-11-05</td><td style = \"text-align: right;\">1.355</td></tr><tr><td class = \"rowNumber\" style = \"font-weight: bold; text-align: right;\">4</td><td style = \"text-align: left;\">1990-11-19</td><td style = \"text-align: right;\">1.327</td></tr><tr><td class = \"rowNumber\" style = \"font-weight: bold; text-align: right;\">5</td><td style = \"text-align: left;\">1990-12-03</td><td style = \"text-align: right;\">1.331</td></tr><tr><td class = \"rowNumber\" style = \"font-weight: bold; text-align: right;\">6</td><td style = \"text-align: left;\">1990-12-17</td><td style = \"text-align: right;\">1.28</td></tr><tr><td class = \"rowNumber\" style = \"font-weight: bold; text-align: right;\">7</td><td style = \"text-align: left;\">1991-01-07</td><td style = \"text-align: right;\">1.254</td></tr><tr><td class = \"rowNumber\" style = \"font-weight: bold; text-align: right;\">8</td><td style = \"text-align: left;\">1991-01-21</td><td style = \"text-align: right;\">1.266</td></tr><tr><td class = \"rowNumber\" style = \"font-weight: bold; text-align: right;\">9</td><td style = \"text-align: left;\">1991-02-04</td><td style = \"text-align: right;\">1.24</td></tr><tr><td class = \"rowNumber\" style = \"font-weight: bold; text-align: right;\">10</td><td style = \"text-align: left;\">1991-02-18</td><td style = \"text-align: right;\">1.216</td></tr></tbody></table></div>"
      ],
      "text/latex": [
       "\\begin{tabular}{r|cc}\n",
       "\t& ﻿date & weekly\\_\\_dollars\\_per\\_gallon\\\\\n",
       "\t\\hline\n",
       "\t& Date & Float32\\\\\n",
       "\t\\hline\n",
       "\t1 & 1990-10-01 & 1.285 \\\\\n",
       "\t2 & 1990-10-15 & 1.347 \\\\\n",
       "\t3 & 1990-11-05 & 1.355 \\\\\n",
       "\t4 & 1990-11-19 & 1.327 \\\\\n",
       "\t5 & 1990-12-03 & 1.331 \\\\\n",
       "\t6 & 1990-12-17 & 1.28 \\\\\n",
       "\t7 & 1991-01-07 & 1.254 \\\\\n",
       "\t8 & 1991-01-21 & 1.266 \\\\\n",
       "\t9 & 1991-02-04 & 1.24 \\\\\n",
       "\t10 & 1991-02-18 & 1.216 \\\\\n",
       "\\end{tabular}\n"
      ],
      "text/plain": [
       "\u001b[1m10×2 DataFrame\u001b[0m\n",
       "\u001b[1m Row \u001b[0m│\u001b[1m \\ufeffdate \u001b[0m\u001b[1m weekly__dollars_per_gallon \u001b[0m\n",
       "     │\u001b[90m Date       \u001b[0m\u001b[90m Float32                    \u001b[0m\n",
       "─────┼────────────────────────────────────────\n",
       "   1 │ 1990-10-01                       1.285\n",
       "   2 │ 1990-10-15                       1.347\n",
       "   3 │ 1990-11-05                       1.355\n",
       "   4 │ 1990-11-19                       1.327\n",
       "   5 │ 1990-12-03                       1.331\n",
       "   6 │ 1990-12-17                       1.28\n",
       "   7 │ 1991-01-07                       1.254\n",
       "   8 │ 1991-01-21                       1.266\n",
       "   9 │ 1991-02-04                       1.24\n",
       "  10 │ 1991-02-18                       1.216"
      ]
     },
     "metadata": {},
     "output_type": "display_data"
    }
   ],
   "source": [
    "# for the weekly price of dollars per gallon columns\n",
    "df[!, :\"weekly__dollars_per_gallon\"] = convert.(Float32, df[!, :\"weekly__dollars_per_gallon\"])\n",
    "\n",
    "# Convert string columns to the date types\n",
    "df[!, :\"\\ufeffdate\"] = Date.(df[!, :\"\\ufeffdate\"], Dates.DateFormat(\"u d, yyyy\"))\n",
    "first(df, 10)"
   ]
  },
  {
   "attachments": {},
   "cell_type": "markdown",
   "metadata": {},
   "source": [
    "One can extract other features from the date column to use as separate inputs or parameters."
   ]
  },
  {
   "cell_type": "code",
   "execution_count": 13,
   "metadata": {},
   "outputs": [
    {
     "data": {
      "text/html": [
       "<div><div style = \"float: left;\"><span>10×5 DataFrame</span></div><div style = \"clear: both;\"></div></div><div class = \"data-frame\" style = \"overflow-x: scroll;\"><table class = \"data-frame\" style = \"margin-bottom: 6px;\"><thead><tr class = \"header\"><th class = \"rowNumber\" style = \"font-weight: bold; text-align: right;\">Row</th><th style = \"text-align: left;\">\\ufeffdate</th><th style = \"text-align: left;\">weekly__dollars_per_gallon</th><th style = \"text-align: left;\">years</th><th style = \"text-align: left;\">months</th><th style = \"text-align: left;\">weeks</th></tr><tr class = \"subheader headerLastRow\"><th class = \"rowNumber\" style = \"font-weight: bold; text-align: right;\"></th><th title = \"Date\" style = \"text-align: left;\">Date</th><th title = \"Float32\" style = \"text-align: left;\">Float32</th><th title = \"Int64\" style = \"text-align: left;\">Int64</th><th title = \"Int64\" style = \"text-align: left;\">Int64</th><th title = \"Int64\" style = \"text-align: left;\">Int64</th></tr></thead><tbody><tr><td class = \"rowNumber\" style = \"font-weight: bold; text-align: right;\">1</td><td style = \"text-align: left;\">1990-10-01</td><td style = \"text-align: right;\">1.285</td><td style = \"text-align: right;\">1990</td><td style = \"text-align: right;\">10</td><td style = \"text-align: right;\">40</td></tr><tr><td class = \"rowNumber\" style = \"font-weight: bold; text-align: right;\">2</td><td style = \"text-align: left;\">1990-10-15</td><td style = \"text-align: right;\">1.347</td><td style = \"text-align: right;\">1990</td><td style = \"text-align: right;\">10</td><td style = \"text-align: right;\">42</td></tr><tr><td class = \"rowNumber\" style = \"font-weight: bold; text-align: right;\">3</td><td style = \"text-align: left;\">1990-11-05</td><td style = \"text-align: right;\">1.355</td><td style = \"text-align: right;\">1990</td><td style = \"text-align: right;\">11</td><td style = \"text-align: right;\">45</td></tr><tr><td class = \"rowNumber\" style = \"font-weight: bold; text-align: right;\">4</td><td style = \"text-align: left;\">1990-11-19</td><td style = \"text-align: right;\">1.327</td><td style = \"text-align: right;\">1990</td><td style = \"text-align: right;\">11</td><td style = \"text-align: right;\">47</td></tr><tr><td class = \"rowNumber\" style = \"font-weight: bold; text-align: right;\">5</td><td style = \"text-align: left;\">1990-12-03</td><td style = \"text-align: right;\">1.331</td><td style = \"text-align: right;\">1990</td><td style = \"text-align: right;\">12</td><td style = \"text-align: right;\">49</td></tr><tr><td class = \"rowNumber\" style = \"font-weight: bold; text-align: right;\">6</td><td style = \"text-align: left;\">1990-12-17</td><td style = \"text-align: right;\">1.28</td><td style = \"text-align: right;\">1990</td><td style = \"text-align: right;\">12</td><td style = \"text-align: right;\">51</td></tr><tr><td class = \"rowNumber\" style = \"font-weight: bold; text-align: right;\">7</td><td style = \"text-align: left;\">1991-01-07</td><td style = \"text-align: right;\">1.254</td><td style = \"text-align: right;\">1991</td><td style = \"text-align: right;\">1</td><td style = \"text-align: right;\">2</td></tr><tr><td class = \"rowNumber\" style = \"font-weight: bold; text-align: right;\">8</td><td style = \"text-align: left;\">1991-01-21</td><td style = \"text-align: right;\">1.266</td><td style = \"text-align: right;\">1991</td><td style = \"text-align: right;\">1</td><td style = \"text-align: right;\">4</td></tr><tr><td class = \"rowNumber\" style = \"font-weight: bold; text-align: right;\">9</td><td style = \"text-align: left;\">1991-02-04</td><td style = \"text-align: right;\">1.24</td><td style = \"text-align: right;\">1991</td><td style = \"text-align: right;\">2</td><td style = \"text-align: right;\">6</td></tr><tr><td class = \"rowNumber\" style = \"font-weight: bold; text-align: right;\">10</td><td style = \"text-align: left;\">1991-02-18</td><td style = \"text-align: right;\">1.216</td><td style = \"text-align: right;\">1991</td><td style = \"text-align: right;\">2</td><td style = \"text-align: right;\">8</td></tr></tbody></table></div>"
      ],
      "text/latex": [
       "\\begin{tabular}{r|ccccc}\n",
       "\t& ﻿date & weekly\\_\\_dollars\\_per\\_gallon & years & months & weeks\\\\\n",
       "\t\\hline\n",
       "\t& Date & Float32 & Int64 & Int64 & Int64\\\\\n",
       "\t\\hline\n",
       "\t1 & 1990-10-01 & 1.285 & 1990 & 10 & 40 \\\\\n",
       "\t2 & 1990-10-15 & 1.347 & 1990 & 10 & 42 \\\\\n",
       "\t3 & 1990-11-05 & 1.355 & 1990 & 11 & 45 \\\\\n",
       "\t4 & 1990-11-19 & 1.327 & 1990 & 11 & 47 \\\\\n",
       "\t5 & 1990-12-03 & 1.331 & 1990 & 12 & 49 \\\\\n",
       "\t6 & 1990-12-17 & 1.28 & 1990 & 12 & 51 \\\\\n",
       "\t7 & 1991-01-07 & 1.254 & 1991 & 1 & 2 \\\\\n",
       "\t8 & 1991-01-21 & 1.266 & 1991 & 1 & 4 \\\\\n",
       "\t9 & 1991-02-04 & 1.24 & 1991 & 2 & 6 \\\\\n",
       "\t10 & 1991-02-18 & 1.216 & 1991 & 2 & 8 \\\\\n",
       "\\end{tabular}\n"
      ],
      "text/plain": [
       "\u001b[1m10×5 DataFrame\u001b[0m\n",
       "\u001b[1m Row \u001b[0m│\u001b[1m \\ufeffdate \u001b[0m\u001b[1m weekly__dollars_per_gallon \u001b[0m\u001b[1m years \u001b[0m\u001b[1m months \u001b[0m\u001b[1m weeks \u001b[0m\n",
       "     │\u001b[90m Date       \u001b[0m\u001b[90m Float32                    \u001b[0m\u001b[90m Int64 \u001b[0m\u001b[90m Int64  \u001b[0m\u001b[90m Int64 \u001b[0m\n",
       "─────┼──────────────────────────────────────────────────────────────\n",
       "   1 │ 1990-10-01                       1.285   1990      10     40\n",
       "   2 │ 1990-10-15                       1.347   1990      10     42\n",
       "   3 │ 1990-11-05                       1.355   1990      11     45\n",
       "   4 │ 1990-11-19                       1.327   1990      11     47\n",
       "   5 │ 1990-12-03                       1.331   1990      12     49\n",
       "   6 │ 1990-12-17                       1.28    1990      12     51\n",
       "   7 │ 1991-01-07                       1.254   1991       1      2\n",
       "   8 │ 1991-01-21                       1.266   1991       1      4\n",
       "   9 │ 1991-02-04                       1.24    1991       2      6\n",
       "  10 │ 1991-02-18                       1.216   1991       2      8"
      ]
     },
     "metadata": {},
     "output_type": "display_data"
    }
   ],
   "source": [
    "df[!,:\"years\"] = year.(df[!,:\"\\ufeffdate\"])\n",
    "df[!,:\"months\"] = month.(df[!,:\"\\ufeffdate\"])\n",
    "df[!,:\"weeks\"] = week.(df[!,:\"\\ufeffdate\"])\n",
    "first(df, 10)"
   ]
  },
  {
   "attachments": {},
   "cell_type": "markdown",
   "metadata": {},
   "source": [
    "Now that the feature engineering aspect of the data has been finished, lets move on to transforming the dataframe into a Flux DataLoader."
   ]
  },
  {
   "cell_type": "code",
   "execution_count": 14,
   "metadata": {},
   "outputs": [
    {
     "data": {
      "text/plain": [
       "522"
      ]
     },
     "metadata": {},
     "output_type": "display_data"
    }
   ],
   "source": [
    "Int(nrow(df)*0.75)"
   ]
  },
  {
   "cell_type": "code",
   "execution_count": 22,
   "metadata": {},
   "outputs": [],
   "source": [
    "X_train = Array(first(df[!, [:years,:months,:weeks]], Int(nrow(df)*0.75)))'\n",
    "X_test = last(df[!, [:years,:months,:weeks]], Int(nrow(df)*0.25))\n",
    "y_train = Array(first(df[!, :weekly__dollars_per_gallon], Int(nrow(df)*0.75)))'\n",
    "y_test = last(df[!, :weekly__dollars_per_gallon], Int(nrow(df)*0.25))\n",
    "train_loader = DataLoader((data=X_train, label=y_train), batchsize=64, shuffle=true);\n",
    "test_loader = DataLoader((data=X_test, label=y_test), batchsize=64, shuffle=true);\n"
   ]
  },
  {
   "attachments": {},
   "cell_type": "markdown",
   "metadata": {},
   "source": [
    "Now that the data has been properly transformed and explored, one should be able to move towards the data modeling phase."
   ]
  },
  {
   "attachments": {},
   "cell_type": "markdown",
   "metadata": {},
   "source": [
    "## Data Modeling\n",
    "\n",
    "Now that the data is ready, let's create a deep learning model that will use the data to learn how to predict heating oil prices."
   ]
  },
  {
   "cell_type": "code",
   "execution_count": 24,
   "metadata": {},
   "outputs": [
    {
     "name": "stdout",
     "output_type": "stream",
     "text": [
      "[2012 1997 2006 2015 1993 2011 2002 2011 2010 2007 1993 1998 2011 2011 2013 1996 2004 2014 1992 1991 2010 2002 1997 1998 1997 2006 2001 2001 1995 2015 2006 2004 1994 1992 2016 1994 2003 2006 2006 2007 2009 1992 2015 2004 2008 2012 2015 2013 2006 1992 2016 2011 2001 2002 2002 2000 2013 2008 2007 2001 2007 2013 2010 2014; 1 12 2 1 2 10 12 2 3 10 12 1 2 10 11 11 11 12 11 12 10 10 10 3 1 11 3 10 1 1 2 10 12 1 2 1 10 12 2 10 10 3 12 12 12 10 2 2 1 10 2 12 1 11 12 11 12 3 1 10 2 1 2 3; 5 49 6 2 5 40 51 9 9 43 51 4 7 44 48 48 49 1 45 51 42 41 41 10 5 48 10 42 3 5 9 41 49 2 5 5 43 51 8 44 44 12 50 51 50 41 7 6 3 43 6 49 5 45 50 45 51 10 5 43 8 3 7 10]\n",
      "This is the size of x:\n",
      "(3, 64)"
     ]
    },
    {
     "ename": "MethodError",
     "evalue": "MethodError: no method matching (::Flux.GRUCell{Matrix{Float32}, Matrix{Float32}, Vector{Float32}, Matrix{Float32}})(::Matrix{Float32}, ::Matrix{Int64})\nClosest candidates are:\n  (::Flux.GRUCell{I, H, V, <:AbstractMatrix{T}})(::Any, ::Union{AbstractVector{T}, AbstractMatrix{T}, OneHotArrays.OneHotArray}) where {I, H, V, T} at C:\\Users\\wpegu\\.julia\\packages\\Flux\\kq9Et\\src\\layers\\recurrent.jl:379",
     "output_type": "error",
     "traceback": [
      "MethodError: no method matching (::Flux.GRUCell{Matrix{Float32}, Matrix{Float32}, Vector{Float32}, Matrix{Float32}})(::Matrix{Float32}, ::Matrix{Int64})\n",
      "Closest candidates are:\n",
      "  (::Flux.GRUCell{I, H, V, <:AbstractMatrix{T}})(::Any, ::Union{AbstractVector{T}, AbstractMatrix{T}, OneHotArrays.OneHotArray}) where {I, H, V, T} at C:\\Users\\wpegu\\.julia\\packages\\Flux\\kq9Et\\src\\layers\\recurrent.jl:379\n",
      "\n",
      "Stacktrace:\n",
      "  [1] macro expansion\n",
      "    @ C:\\Users\\wpegu\\.julia\\packages\\Zygote\\SmJK6\\src\\compiler\\interface2.jl:0 [inlined]\n",
      "  [2] _pullback(::Zygote.Context{false}, ::Flux.GRUCell{Matrix{Float32}, Matrix{Float32}, Vector{Float32}, Matrix{Float32}}, ::Matrix{Float32}, ::Matrix{Int64})\n",
      "    @ Zygote C:\\Users\\wpegu\\.julia\\packages\\Zygote\\SmJK6\\src\\compiler\\interface2.jl:9\n",
      "  [3] _pullback\n",
      "    @ C:\\Users\\wpegu\\.julia\\packages\\Flux\\kq9Et\\src\\layers\\recurrent.jl:134 [inlined]\n",
      "  [4] _pullback(ctx::Zygote.Context{false}, f::Flux.Recur{Flux.GRUCell{Matrix{Float32}, Matrix{Float32}, Vector{Float32}, Matrix{Float32}}, Matrix{Float32}}, args::Matrix{Int64})\n",
      "    @ Zygote C:\\Users\\wpegu\\.julia\\packages\\Zygote\\SmJK6\\src\\compiler\\interface2.jl:0\n",
      "  [5] _pullback\n",
      "    @ b:\\Documents\\Github\\grove-cost-predictors\\case studies\\heating_oil_consumption.ipynb:11 [inlined]\n",
      "  [6] _pullback(ctx::Zygote.Context{false}, f::var\"#15#16\"{LinearAlgebra.Adjoint{Float32, Vector{Float32}}, Matrix{Int64}}, args::Flux.Recur{Flux.GRUCell{Matrix{Float32}, Matrix{Float32}, Vector{Float32}, Matrix{Float32}}, Matrix{Float32}})\n",
      "    @ Zygote C:\\Users\\wpegu\\.julia\\packages\\Zygote\\SmJK6\\src\\compiler\\interface2.jl:0\n",
      "  [7] pullback(f::Function, cx::Zygote.Context{false}, args::Flux.Recur{Flux.GRUCell{Matrix{Float32}, Matrix{Float32}, Vector{Float32}, Matrix{Float32}}, Matrix{Float32}})\n",
      "    @ Zygote C:\\Users\\wpegu\\.julia\\packages\\Zygote\\SmJK6\\src\\compiler\\interface.jl:44\n",
      "  [8] pullback\n",
      "    @ C:\\Users\\wpegu\\.julia\\packages\\Zygote\\SmJK6\\src\\compiler\\interface.jl:42 [inlined]\n",
      "  [9] withgradient(f::Function, args::Flux.Recur{Flux.GRUCell{Matrix{Float32}, Matrix{Float32}, Vector{Float32}, Matrix{Float32}}, Matrix{Float32}})\n",
      "    @ Zygote C:\\Users\\wpegu\\.julia\\packages\\Zygote\\SmJK6\\src\\compiler\\interface.jl:132\n",
      " [10] top-level scope\n",
      "    @ b:\\Documents\\Github\\grove-cost-predictors\\case studies\\heating_oil_consumption.ipynb:9"
     ]
    }
   ],
   "source": [
    "model = GRU(3 => 1)\n",
    "optim = Flux.setup(Adam(0.01), model)\n",
    "losses = []\n",
    "for epoch in 1:10\n",
    "    for (x,y) in train_loader\n",
    "        print(x)\n",
    "        print(\"\\nThis is the size of x:\\n\")\n",
    "        print(size(x))\n",
    "        loss, grads = Flux.withgradient(model) do m\n",
    "            # Evaluate model and loss inside gradient context:\n",
    "            y_hat = m(x)\n",
    "            crossentropy(y_hat, y)\n",
    "        end\n",
    "        update!(optim, model, grads[1])\n",
    "        push!(losses, loss)\n",
    "    end\n",
    "end\n",
    "optim"
   ]
  }
 ],
 "metadata": {
  "kernelspec": {
   "display_name": "Julia 1.8.4",
   "language": "julia",
   "name": "julia-1.8"
  },
  "language_info": {
   "file_extension": ".jl",
   "mimetype": "application/julia",
   "name": "julia",
   "version": "1.8.4"
  },
  "orig_nbformat": 4,
  "vscode": {
   "interpreter": {
    "hash": "85331e4e8fff2fa92dfc2726a4c132dd610c3908529c4cf230774e27f99b302b"
   }
  }
 },
 "nbformat": 4,
 "nbformat_minor": 2
}
